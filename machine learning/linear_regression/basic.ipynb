{
 "cells": [
  {
   "cell_type": "code",
   "execution_count": null,
   "id": "c3647952",
   "metadata": {},
   "outputs": [],
   "source": [
    "# !pip install pandas\n",
    "# !pip install scikit-learn\n"
   ]
  },
  {
   "cell_type": "code",
   "execution_count": null,
   "id": "7295a805",
   "metadata": {},
   "outputs": [],
   "source": [
    "import pandas as pd "
   ]
  },
  {
   "cell_type": "code",
   "execution_count": null,
   "id": "a4fa65b8",
   "metadata": {},
   "outputs": [],
   "source": [
    "df =pd.read_csv('Used_Bikes.csv')  ## path "
   ]
  },
  {
   "cell_type": "code",
   "execution_count": null,
   "id": "bf97a03b",
   "metadata": {},
   "outputs": [],
   "source": [
    "df "
   ]
  },
  {
   "cell_type": "code",
   "execution_count": null,
   "id": "e313d8bc",
   "metadata": {},
   "outputs": [],
   "source": [
    "df.head(10) ## head uper ke 5 element "
   ]
  },
  {
   "cell_type": "code",
   "execution_count": null,
   "id": "d077a386",
   "metadata": {},
   "outputs": [],
   "source": [
    "df.tail()"
   ]
  },
  {
   "cell_type": "code",
   "execution_count": null,
   "id": "97609fbe",
   "metadata": {},
   "outputs": [],
   "source": [
    "df.info()"
   ]
  },
  {
   "cell_type": "code",
   "execution_count": null,
   "id": "6705fe18",
   "metadata": {},
   "outputs": [],
   "source": [
    "df.columns"
   ]
  },
  {
   "cell_type": "code",
   "execution_count": null,
   "id": "353f850a",
   "metadata": {},
   "outputs": [],
   "source": [
    "df.describe()"
   ]
  },
  {
   "cell_type": "code",
   "execution_count": null,
   "id": "b4165575",
   "metadata": {},
   "outputs": [],
   "source": [
    "df.isnull()"
   ]
  },
  {
   "cell_type": "code",
   "execution_count": null,
   "id": "bf4aa31b",
   "metadata": {},
   "outputs": [],
   "source": [
    "df.isnull().sum()\n"
   ]
  },
  {
   "cell_type": "code",
   "execution_count": null,
   "id": "ae98adf1",
   "metadata": {},
   "outputs": [],
   "source": [
    "df.duplicated()"
   ]
  },
  {
   "cell_type": "code",
   "execution_count": null,
   "id": "3ec84369",
   "metadata": {},
   "outputs": [],
   "source": [
    "df.duplicated().sum()"
   ]
  },
  {
   "cell_type": "code",
   "execution_count": null,
   "id": "349b0f4f",
   "metadata": {},
   "outputs": [],
   "source": [
    "df.drop_duplicates(inplace=True) ### "
   ]
  },
  {
   "cell_type": "code",
   "execution_count": null,
   "id": "1a8242f0",
   "metadata": {},
   "outputs": [],
   "source": [
    "df.duplicated().sum()"
   ]
  },
  {
   "cell_type": "code",
   "execution_count": null,
   "id": "5f214fb6",
   "metadata": {},
   "outputs": [],
   "source": [
    "# df.dropna()\n",
    "df"
   ]
  },
  {
   "cell_type": "code",
   "execution_count": null,
   "id": "d3d45f2a",
   "metadata": {},
   "outputs": [],
   "source": [
    "df['bike_name']"
   ]
  },
  {
   "cell_type": "code",
   "execution_count": null,
   "id": "996b9dd0",
   "metadata": {},
   "outputs": [],
   "source": [
    "df['brand']"
   ]
  },
  {
   "cell_type": "code",
   "execution_count": null,
   "id": "96e91808",
   "metadata": {},
   "outputs": [],
   "source": [
    "df['brand'].unique()"
   ]
  },
  {
   "cell_type": "code",
   "execution_count": null,
   "id": "73354816",
   "metadata": {},
   "outputs": [],
   "source": [
    "df['owner'].unique()"
   ]
  },
  {
   "cell_type": "code",
   "execution_count": null,
   "id": "48731b07",
   "metadata": {},
   "outputs": [],
   "source": [
    "df['brand'].nunique()"
   ]
  },
  {
   "cell_type": "code",
   "execution_count": null,
   "id": "bf57efc1",
   "metadata": {},
   "outputs": [],
   "source": [
    "df['brand'].value_counts()"
   ]
  },
  {
   "cell_type": "code",
   "execution_count": null,
   "id": "15e19822",
   "metadata": {},
   "outputs": [],
   "source": [
    "df['owner'].value_counts()"
   ]
  },
  {
   "cell_type": "code",
   "execution_count": null,
   "id": "82f4e417",
   "metadata": {},
   "outputs": [],
   "source": [
    "df"
   ]
  },
  {
   "cell_type": "code",
   "execution_count": null,
   "id": "1763393d",
   "metadata": {},
   "outputs": [],
   "source": [
    "df =df.drop(['city','bike_name'], axis=1 )   #1 coloums 0 row"
   ]
  },
  {
   "cell_type": "code",
   "execution_count": null,
   "id": "2f61daed",
   "metadata": {},
   "outputs": [],
   "source": [
    "df "
   ]
  },
  {
   "cell_type": "code",
   "execution_count": null,
   "id": "20f86b5c",
   "metadata": {},
   "outputs": [],
   "source": [
    "cat_col =df.select_dtypes(include='object')"
   ]
  },
  {
   "cell_type": "code",
   "execution_count": null,
   "id": "bac3a156",
   "metadata": {},
   "outputs": [],
   "source": [
    "cat_col"
   ]
  },
  {
   "cell_type": "code",
   "execution_count": null,
   "id": "75fabc6e",
   "metadata": {},
   "outputs": [],
   "source": [
    "num_cal=df.select_dtypes(exclude='object')"
   ]
  },
  {
   "cell_type": "code",
   "execution_count": null,
   "id": "e3439dd9",
   "metadata": {},
   "outputs": [],
   "source": [
    "num_cal"
   ]
  },
  {
   "cell_type": "code",
   "execution_count": null,
   "id": "4e01dc3d",
   "metadata": {},
   "outputs": [],
   "source": [
    "# bike brand = tvs \n",
    "# kms = 50000\n",
    "# price = 50000\n",
    "\n",
    "tvs_df =df[df['brand']=='TVS']\n",
    " \n",
    "\n"
   ]
  },
  {
   "cell_type": "code",
   "execution_count": null,
   "id": "2a28d960",
   "metadata": {},
   "outputs": [],
   "source": [
    "tvs_df[tvs_df['kms_driven']==50000]"
   ]
  },
  {
   "cell_type": "code",
   "execution_count": null,
   "id": "240479fa",
   "metadata": {},
   "outputs": [],
   "source": [
    "# brand == Royal Enfield\n",
    "# price = 100000\n",
    "# kms = 30000\n",
    "# owner = first owner\n",
    "\n",
    "# # kya aapke pass bike \n",
    "roy_df=df[df['brand'] == 'Royal Enfield']\n",
    "roy_df=roy_df[roy_df['kms_driven'] == 30000]\n",
    "roy_df=roy_df[roy_df['owner'] == 'First Owner']\n",
    "roy_df=roy_df[roy_df['price'] <= 100000]\n",
    "roy_df"
   ]
  },
  {
   "cell_type": "code",
   "execution_count": null,
   "id": "6bb9b42f",
   "metadata": {},
   "outputs": [],
   "source": [
    "royal_df =df[(df['brand']=='Royal Enfield')&\n",
    "(df['kms_driven'] == 30000)&\n",
    "(df['owner']=='First Owner') &\n",
    "(df['price'] <= 100000)]"
   ]
  },
  {
   "cell_type": "code",
   "execution_count": null,
   "id": "a714253a",
   "metadata": {},
   "outputs": [],
   "source": [
    "royal_df"
   ]
  },
  {
   "cell_type": "code",
   "execution_count": null,
   "id": "f0de9477",
   "metadata": {},
   "outputs": [],
   "source": [
    "df.query('brand == \"Royal Enfield\" and kms_driven == 30000 and owner == \"First Owner\" and price <= 100000')"
   ]
  },
  {
   "cell_type": "code",
   "execution_count": null,
   "id": "6b057c5b",
   "metadata": {},
   "outputs": [],
   "source": [
    "df # brand = \"\""
   ]
  },
  {
   "cell_type": "code",
   "execution_count": null,
   "id": "f553dff4",
   "metadata": {},
   "outputs": [],
   "source": [
    "# brand = hero \n",
    "# price = under 50K\n",
    "# owner = 2nd owner\n",
    "# age = 2 \n",
    "\n",
    "\n",
    "\n",
    "\n"
   ]
  },
  {
   "cell_type": "code",
   "execution_count": null,
   "id": "6253987c",
   "metadata": {},
   "outputs": [],
   "source": [
    "df['owner'].unique()"
   ]
  },
  {
   "cell_type": "code",
   "execution_count": null,
   "id": "3c6aa4d6",
   "metadata": {},
   "outputs": [],
   "source": [
    "# Parth Kulkarni\n",
    "# 15:37\n",
    "x=df.query(\"brand == 'Hero' and age == 2 and owner == 'Second Owner' and price == 50000\")"
   ]
  },
  {
   "cell_type": "code",
   "execution_count": null,
   "id": "d5629940",
   "metadata": {},
   "outputs": [],
   "source": [
    "x "
   ]
  },
  {
   "cell_type": "code",
   "execution_count": null,
   "id": "4b7837e6",
   "metadata": {},
   "outputs": [],
   "source": [
    "# Mariyam Perveen\n",
    "# 15:43\n",
    "hero_df = df[\n",
    "    (df['brand'] == 'Hero') &\n",
    "    (df['price'] <= 50000) &\n",
    "    (df['owner'] == 'Second Owner') &\n",
    "    (df['age'] >= 2)\n",
    "]\n",
    "hero_df"
   ]
  },
  {
   "cell_type": "code",
   "execution_count": null,
   "id": "6cead12c",
   "metadata": {},
   "outputs": [],
   "source": [
    "df "
   ]
  },
  {
   "cell_type": "code",
   "execution_count": null,
   "id": "1fdb7a46",
   "metadata": {},
   "outputs": [],
   "source": [
    "# machine learning  \n",
    "# math\n",
    "df['owner'].unique() #### encoding "
   ]
  },
  {
   "cell_type": "code",
   "execution_count": null,
   "id": "8b86e185",
   "metadata": {},
   "outputs": [],
   "source": [
    "owner_dict = {\n",
    "    'First Owner':1, 'Second Owner':2, 'Third Owner':3,\n",
    "       'Fourth Owner Or More':4\n",
    "}"
   ]
  },
  {
   "cell_type": "code",
   "execution_count": null,
   "id": "ef8e927f",
   "metadata": {},
   "outputs": [],
   "source": [
    "owner_dict"
   ]
  },
  {
   "cell_type": "code",
   "execution_count": null,
   "id": "bcc07c13",
   "metadata": {},
   "outputs": [],
   "source": [
    "df['owner']=df['owner'].map(owner_dict)"
   ]
  },
  {
   "cell_type": "code",
   "execution_count": null,
   "id": "29d9d4ec",
   "metadata": {},
   "outputs": [],
   "source": [
    "df['owner'].unique()"
   ]
  },
  {
   "cell_type": "code",
   "execution_count": null,
   "id": "25c51e13",
   "metadata": {},
   "outputs": [],
   "source": [
    "df "
   ]
  },
  {
   "cell_type": "code",
   "execution_count": null,
   "id": "8309e546",
   "metadata": {},
   "outputs": [],
   "source": [
    "df['brand'].unique()"
   ]
  },
  {
   "cell_type": "code",
   "execution_count": null,
   "id": "878a029e",
   "metadata": {},
   "outputs": [],
   "source": [
    "brand_dict = {\n",
    "    'TVS':0, 'Royal Enfield':1, 'Triumph':2, 'Yamaha':3, 'Honda':4, 'Hero':5,\n",
    "       'Bajaj':6, 'Suzuki':7, 'Benelli':8, 'KTM':9, 'Mahindra':10, 'Kawasaki':11,\n",
    "       'Ducati':12, 'Hyosung':13, 'Harley-Davidson':14, 'Jawa':15, 'BMW':16, 'Indian':17,\n",
    "       'Rajdoot':18, 'LML':19, 'Yezdi':20, 'MV':21, 'Ideal':22\n",
    "}"
   ]
  },
  {
   "cell_type": "code",
   "execution_count": null,
   "id": "050df70c",
   "metadata": {},
   "outputs": [],
   "source": [
    "df['brand'] = df['brand'].map(brand_dict)"
   ]
  },
  {
   "cell_type": "code",
   "execution_count": null,
   "id": "9b55287f",
   "metadata": {},
   "outputs": [],
   "source": [
    "df "
   ]
  },
  {
   "cell_type": "code",
   "execution_count": null,
   "id": "2ccea7d2",
   "metadata": {},
   "outputs": [],
   "source": [
    "df.dtypes"
   ]
  },
  {
   "cell_type": "code",
   "execution_count": null,
   "id": "da6d8f7d",
   "metadata": {},
   "outputs": [],
   "source": [
    "# df.concate([])  concatenation\n",
    "df "
   ]
  },
  {
   "cell_type": "code",
   "execution_count": null,
   "id": "a0628269",
   "metadata": {},
   "outputs": [],
   "source": [
    "df.corr()"
   ]
  },
  {
   "cell_type": "code",
   "execution_count": null,
   "id": "f9186fb5",
   "metadata": {},
   "outputs": [],
   "source": [
    "x =df.drop('price',axis=1)\n",
    "y =df[['price']]"
   ]
  },
  {
   "cell_type": "code",
   "execution_count": null,
   "id": "1a5e370b",
   "metadata": {},
   "outputs": [],
   "source": [
    "x  # independent variable"
   ]
  },
  {
   "cell_type": "code",
   "execution_count": null,
   "id": "752c35be",
   "metadata": {},
   "outputs": [],
   "source": [
    "y   # dependent variable"
   ]
  },
  {
   "cell_type": "code",
   "execution_count": null,
   "id": "fc5bc287",
   "metadata": {},
   "outputs": [],
   "source": [
    "# model training step \n",
    "# data spliting -----> test or traning  (testing  model testing ) (traning model the model )\n",
    "from sklearn.model_selection import train_test_split\n",
    "x_train, x_test, y_train, y_test=train_test_split(x , y , test_size=0.2)\n",
    "\n",
    "\n"
   ]
  },
  {
   "cell_type": "code",
   "execution_count": null,
   "id": "7613d760",
   "metadata": {},
   "outputs": [],
   "source": [
    "x_train.shape, x_test.shape, y_train.shape, y_test.shape"
   ]
  },
  {
   "cell_type": "code",
   "execution_count": null,
   "id": "75ea79bf",
   "metadata": {},
   "outputs": [],
   "source": [
    "# model traning step\n",
    "from sklearn.linear_model import LinearRegression\n",
    "model=LinearRegression()\n",
    "model.fit(x_train, y_train)\n"
   ]
  },
  {
   "cell_type": "code",
   "execution_count": null,
   "id": "1e67e735",
   "metadata": {},
   "outputs": [],
   "source": [
    "print(\"traning score:-\",model.score(x_train, y_train))"
   ]
  },
  {
   "cell_type": "code",
   "execution_count": null,
   "id": "0607fd74",
   "metadata": {},
   "outputs": [],
   "source": [
    "print(\"testing score:-\",model.score(x_test, y_test))"
   ]
  },
  {
   "cell_type": "code",
   "execution_count": null,
   "id": "db274bb2",
   "metadata": {},
   "outputs": [],
   "source": [
    "pred =model.predict(x_test)"
   ]
  },
  {
   "cell_type": "code",
   "execution_count": null,
   "id": "d6107f17",
   "metadata": {},
   "outputs": [],
   "source": [
    "pred=pred.ravel()"
   ]
  },
  {
   "cell_type": "code",
   "execution_count": null,
   "id": "a3a485ea",
   "metadata": {},
   "outputs": [],
   "source": [
    "import numpy  as np"
   ]
  },
  {
   "cell_type": "code",
   "execution_count": null,
   "id": "fa83618f",
   "metadata": {},
   "outputs": [],
   "source": [
    "y_test=np.array(y_test).ravel()"
   ]
  },
  {
   "cell_type": "code",
   "execution_count": null,
   "id": "2cae1960",
   "metadata": {},
   "outputs": [],
   "source": [
    "history=pd.DataFrame({\"predicted\":pred , \"actual\":y_test})"
   ]
  },
  {
   "cell_type": "code",
   "execution_count": null,
   "id": "41bba925",
   "metadata": {},
   "outputs": [],
   "source": [
    "history"
   ]
  },
  {
   "cell_type": "code",
   "execution_count": null,
   "id": "cc19729e",
   "metadata": {},
   "outputs": [],
   "source": [
    "import joblib\n",
    "joblib.dump(model, 'linear_regression_model')"
   ]
  },
  {
   "cell_type": "code",
   "execution_count": null,
   "id": "51a9850d",
   "metadata": {},
   "outputs": [],
   "source": [
    "model =joblib.load('linear_regression_model')"
   ]
  },
  {
   "cell_type": "code",
   "execution_count": null,
   "id": "412c522f",
   "metadata": {},
   "outputs": [],
   "source": [
    "model.predict(x_test)"
   ]
  },
  {
   "cell_type": "code",
   "execution_count": null,
   "id": "95326647",
   "metadata": {},
   "outputs": [],
   "source": [
    "from sklearn.datasets import load_breast_cancer\n",
    "from sklearn.linear_model import LogisticRegression\n",
    "from  sklearn.model_selection import train_test_split\n"
   ]
  },
  {
   "cell_type": "code",
   "execution_count": null,
   "id": "53eafc5b",
   "metadata": {},
   "outputs": [],
   "source": [
    "x , y =load_breast_cancer(return_X_y=True)"
   ]
  },
  {
   "cell_type": "code",
   "execution_count": null,
   "id": "70171f71",
   "metadata": {},
   "outputs": [],
   "source": [
    "x # undepanded coloum "
   ]
  },
  {
   "cell_type": "code",
   "execution_count": null,
   "id": "f9d10cca",
   "metadata": {},
   "outputs": [],
   "source": [
    "y "
   ]
  },
  {
   "cell_type": "code",
   "execution_count": null,
   "id": "2b30fcfc",
   "metadata": {},
   "outputs": [],
   "source": [
    "x_train, x_test, y_train, y_test=train_test_split(x , y , test_size=0.2)"
   ]
  },
  {
   "cell_type": "code",
   "execution_count": null,
   "id": "1610aff0",
   "metadata": {},
   "outputs": [],
   "source": [
    "x_train.shape, y_train.shape , x_test.shape, y_test.shape "
   ]
  },
  {
   "cell_type": "code",
   "execution_count": null,
   "id": "8198d92c",
   "metadata": {},
   "outputs": [],
   "source": [
    "logistic_model =LogisticRegression(max_iter=10000, random_state=0)"
   ]
  },
  {
   "cell_type": "code",
   "execution_count": null,
   "id": "745ed4fc",
   "metadata": {},
   "outputs": [],
   "source": [
    "logistic_model.fit(x_train,y_train)"
   ]
  },
  {
   "cell_type": "code",
   "execution_count": null,
   "id": "2bfe956e",
   "metadata": {},
   "outputs": [],
   "source": [
    "logistic_model.score(x_train, y_train)"
   ]
  },
  {
   "cell_type": "code",
   "execution_count": null,
   "id": "5f54e3cf",
   "metadata": {},
   "outputs": [],
   "source": [
    "logistic_model.score(x_test, y_test)"
   ]
  },
  {
   "cell_type": "code",
   "execution_count": null,
   "id": "27a94666",
   "metadata": {},
   "outputs": [],
   "source": [
    "pred =logistic_model.predict(x_test)"
   ]
  },
  {
   "cell_type": "code",
   "execution_count": null,
   "id": "14d3438e",
   "metadata": {},
   "outputs": [],
   "source": [
    "pred"
   ]
  },
  {
   "cell_type": "code",
   "execution_count": null,
   "id": "a873b7d3",
   "metadata": {},
   "outputs": [],
   "source": [
    "y_test "
   ]
  },
  {
   "cell_type": "code",
   "execution_count": null,
   "id": "a7e8d1b8",
   "metadata": {},
   "outputs": [],
   "source": [
    "from sklearn.datasets import load_iris\n",
    "from sklearn.model_selection import train_test_split\n",
    "from sklearn.svm import SVC, SVR"
   ]
  },
  {
   "cell_type": "code",
   "execution_count": null,
   "id": "93f12f4f",
   "metadata": {},
   "outputs": [],
   "source": [
    "x , y =load_iris(return_X_y=True)"
   ]
  },
  {
   "cell_type": "code",
   "execution_count": null,
   "id": "b5ffcfed",
   "metadata": {},
   "outputs": [],
   "source": [
    "x_train, x_test, y_train, y_test=train_test_split(x, y , test_size=0.2)"
   ]
  },
  {
   "cell_type": "code",
   "execution_count": null,
   "id": "7b08c51a",
   "metadata": {},
   "outputs": [],
   "source": [
    "svm_model =SVC(kernel='rbf', gamma=0.5, C=1.0)  #  high = overfit , low = underfit (0.01), gamma is used to single output , kernal is used to non linear data "
   ]
  },
  {
   "cell_type": "code",
   "execution_count": null,
   "id": "62858a30",
   "metadata": {},
   "outputs": [],
   "source": [
    "svm_model.fit(x_train,y_train)"
   ]
  },
  {
   "cell_type": "code",
   "execution_count": null,
   "id": "28e3c362",
   "metadata": {},
   "outputs": [],
   "source": [
    "svm_model.score(x_train,y_train)"
   ]
  },
  {
   "cell_type": "code",
   "execution_count": null,
   "id": "90eda19f",
   "metadata": {},
   "outputs": [],
   "source": [
    "svm_model.score(x_test, y_test)"
   ]
  },
  {
   "cell_type": "code",
   "execution_count": null,
   "id": "b58eacf4",
   "metadata": {},
   "outputs": [],
   "source": [
    "pred =svm_model.predict(x_test)"
   ]
  },
  {
   "cell_type": "code",
   "execution_count": null,
   "id": "479ef90f",
   "metadata": {},
   "outputs": [],
   "source": [
    "pred"
   ]
  },
  {
   "cell_type": "code",
   "execution_count": null,
   "id": "95238d57",
   "metadata": {},
   "outputs": [],
   "source": [
    "y_test"
   ]
  },
  {
   "cell_type": "code",
   "execution_count": null,
   "id": "a5bc8b83",
   "metadata": {},
   "outputs": [],
   "source": [
    "from sklearn.preprocessing import OneHotEncoder ,LabelEncoder"
   ]
  },
  {
   "cell_type": "code",
   "execution_count": null,
   "id": "692438f5",
   "metadata": {},
   "outputs": [],
   "source": [
    "df =pd.read_csv('cust_satisfaction.csv')\n",
    "df.drop_duplicates(inplace=True)\n",
    "df.dropna(inplace=True)"
   ]
  },
  {
   "cell_type": "code",
   "execution_count": null,
   "id": "e9338b2c",
   "metadata": {},
   "outputs": [],
   "source": [
    "one_obj =OneHotEncoder()"
   ]
  },
  {
   "cell_type": "code",
   "execution_count": null,
   "id": "ca287693",
   "metadata": {},
   "outputs": [],
   "source": [
    "# one_obj.fit(df['Gender'])"
   ]
  },
  {
   "cell_type": "code",
   "execution_count": null,
   "id": "aa89077b",
   "metadata": {},
   "outputs": [],
   "source": [
    "# df['Gender']=one_obj.fit_transform(df['Gender'])"
   ]
  },
  {
   "cell_type": "code",
   "execution_count": null,
   "id": "68362eab",
   "metadata": {},
   "outputs": [],
   "source": [
    "df['Gender'].unique()"
   ]
  },
  {
   "cell_type": "code",
   "execution_count": null,
   "id": "7cbbff97",
   "metadata": {},
   "outputs": [],
   "source": [
    "df['satisfaction']=one_obj.fit_transform(df[['satisfaction']]).toarray()"
   ]
  },
  {
   "cell_type": "code",
   "execution_count": null,
   "id": "1a13bcbf",
   "metadata": {},
   "outputs": [],
   "source": [
    "df['Gender'].unique()"
   ]
  },
  {
   "cell_type": "code",
   "execution_count": null,
   "id": "62d4a036",
   "metadata": {},
   "outputs": [],
   "source": [
    "df['Class'].unique()"
   ]
  },
  {
   "cell_type": "code",
   "execution_count": null,
   "id": "e42d2638",
   "metadata": {},
   "outputs": [],
   "source": [
    "df['Class']=LabelEncoder().fit_transform(df['Class'])"
   ]
  },
  {
   "cell_type": "code",
   "execution_count": null,
   "id": "f4c67ded",
   "metadata": {},
   "outputs": [],
   "source": [
    "df['satisfaction'].unique()"
   ]
  },
  {
   "cell_type": "code",
   "execution_count": null,
   "id": "13afc253",
   "metadata": {},
   "outputs": [],
   "source": [
    "df "
   ]
  },
  {
   "cell_type": "code",
   "execution_count": null,
   "id": "d64a5a66",
   "metadata": {},
   "outputs": [],
   "source": [
    "x =df.drop('Customer Type',axis=1)\n",
    "y =df[['Customer Type']]"
   ]
  },
  {
   "cell_type": "code",
   "execution_count": null,
   "id": "511f4e94",
   "metadata": {},
   "outputs": [],
   "source": [
    "x_train, x_test, y_train, y_test=train_test_split(x, y , test_size=0.2)"
   ]
  },
  {
   "cell_type": "code",
   "execution_count": null,
   "id": "8ddd2335",
   "metadata": {},
   "outputs": [],
   "source": [
    "df "
   ]
  },
  {
   "cell_type": "code",
   "execution_count": null,
   "id": "34e83ed3",
   "metadata": {},
   "outputs": [],
   "source": [
    "# from sklearn.svm import SVC\n",
    "# SVC(gamma=0.5).fit(x_train,y_train).score(x_test,y_test)"
   ]
  },
  {
   "cell_type": "markdown",
   "id": "197e04d0",
   "metadata": {},
   "source": [
    "#### KNN Algo "
   ]
  },
  {
   "cell_type": "code",
   "execution_count": null,
   "id": "0b255368",
   "metadata": {},
   "outputs": [],
   "source": [
    "from sklearn.neighbors import KNeighborsClassifier\n",
    "from sklearn.model_selection import train_test_split\n",
    "from sklearn.datasets import load_iris"
   ]
  },
  {
   "cell_type": "code",
   "execution_count": null,
   "id": "7f609a14",
   "metadata": {},
   "outputs": [],
   "source": [
    "iris=load_iris()\n",
    "x =iris.data\n",
    "y = iris.target"
   ]
  },
  {
   "cell_type": "code",
   "execution_count": null,
   "id": "6d86ea8f",
   "metadata": {},
   "outputs": [],
   "source": [
    "y "
   ]
  },
  {
   "cell_type": "code",
   "execution_count": null,
   "id": "d5a56b85",
   "metadata": {},
   "outputs": [],
   "source": [
    "x "
   ]
  },
  {
   "cell_type": "code",
   "execution_count": null,
   "id": "81367bed",
   "metadata": {},
   "outputs": [],
   "source": [
    "x_train,x_test,y_train,y_test=train_test_split(x , y ,test_size=0.2)"
   ]
  },
  {
   "cell_type": "code",
   "execution_count": null,
   "id": "0212d515",
   "metadata": {},
   "outputs": [],
   "source": [
    "knn=KNeighborsClassifier(n_neighbors=3)\n",
    "knn.fit(x_train,y_train)"
   ]
  },
  {
   "cell_type": "code",
   "execution_count": null,
   "id": "da5e6466",
   "metadata": {},
   "outputs": [],
   "source": [
    "knn.score(x_train, y_train)"
   ]
  },
  {
   "cell_type": "code",
   "execution_count": null,
   "id": "c845a2db",
   "metadata": {},
   "outputs": [],
   "source": [
    "# LinearRegression\n",
    "# LogisticRegression\n",
    "# svm_model \n",
    "# knn\n"
   ]
  },
  {
   "cell_type": "markdown",
   "id": "c5f73250",
   "metadata": {},
   "source": [
    "#### Performance metrics (model evaluation techniques)"
   ]
  },
  {
   "cell_type": "code",
   "execution_count": null,
   "id": "135b0de6",
   "metadata": {},
   "outputs": [],
   "source": [
    "from sklearn.neighbors import KNeighborsClassifier\n",
    "from sklearn.datasets import load_iris\n",
    "from sklearn.model_selection import train_test_split\n",
    "from sklearn.metrics import (accuracy_score,\n",
    "                             precision_score,\n",
    "                             recall_score,\n",
    "                             f1_score,\n",
    "                             classification_report\n",
    "                             )"
   ]
  },
  {
   "cell_type": "code",
   "execution_count": null,
   "id": "c6088a20",
   "metadata": {},
   "outputs": [],
   "source": [
    "x , y =load_iris().data, load_iris().target "
   ]
  },
  {
   "cell_type": "code",
   "execution_count": null,
   "id": "38b8a41d",
   "metadata": {},
   "outputs": [],
   "source": [
    "x "
   ]
  },
  {
   "cell_type": "code",
   "execution_count": null,
   "id": "648d7ca3",
   "metadata": {},
   "outputs": [],
   "source": [
    "y "
   ]
  },
  {
   "cell_type": "code",
   "execution_count": null,
   "id": "00fc001d",
   "metadata": {},
   "outputs": [],
   "source": [
    "# x_train,y_testn,x_test,y_train,=train_test_split(x , y ,test_size=0.2)"
   ]
  },
  {
   "cell_type": "code",
   "execution_count": null,
   "id": "27f4b993",
   "metadata": {},
   "outputs": [],
   "source": [
    "knn_model =KNeighborsClassifier(n_neighbors=3)"
   ]
  },
  {
   "cell_type": "code",
   "execution_count": null,
   "id": "fc17f282",
   "metadata": {},
   "outputs": [],
   "source": [
    "knn_model.fit(x_train, y_train)"
   ]
  },
  {
   "cell_type": "code",
   "execution_count": null,
   "id": "3651da94",
   "metadata": {},
   "outputs": [],
   "source": [
    "pred =knn_model.predict(x_test)"
   ]
  },
  {
   "cell_type": "code",
   "execution_count": null,
   "id": "a98b9146",
   "metadata": {},
   "outputs": [],
   "source": [
    "pred"
   ]
  },
  {
   "cell_type": "code",
   "execution_count": null,
   "id": "db42af79",
   "metadata": {},
   "outputs": [],
   "source": [
    "y_test"
   ]
  },
  {
   "cell_type": "code",
   "execution_count": null,
   "id": "4b635828",
   "metadata": {},
   "outputs": [],
   "source": [
    "acc =accuracy_score(y_test, pred)\n",
    "print(\"accuracy_score:-\", acc )\n",
    "ps  =precision_score(y_test,pred, average='macro')\n",
    "print(\"precision_score:-\", ps )\n",
    "rs =recall_score(y_test, pred, average='macro')\n",
    "print(\"recall_score:-\",rs)\n",
    "f1_score=f1_score(y_test,pred, average='macro')\n",
    "print(\"f1_score:-\", f1_score)"
   ]
  },
  {
   "cell_type": "code",
   "execution_count": null,
   "id": "48c34de6",
   "metadata": {},
   "outputs": [],
   "source": [
    "from sklearn.ensemble import RandomForestClassifier, RandomForestRegressor\n"
   ]
  },
  {
   "cell_type": "code",
   "execution_count": null,
   "id": "be0bcfe4",
   "metadata": {},
   "outputs": [],
   "source": [
    "RFC_obj=RandomForestClassifier(n_estimators=200,\n",
    "                               criterion='entropy',\n",
    "                               max_depth=3,\n",
    "                               min_samples_split=2,\n",
    "                               min_samples_leaf=2) ### hyper parameter "
   ]
  },
  {
   "cell_type": "code",
   "execution_count": null,
   "id": "38f7081b",
   "metadata": {},
   "outputs": [],
   "source": [
    "RFC_obj.get_params()   ### "
   ]
  },
  {
   "cell_type": "code",
   "execution_count": null,
   "id": "e743bef4",
   "metadata": {},
   "outputs": [],
   "source": [
    "RFC_obj.fit(x_train,y_train)"
   ]
  },
  {
   "cell_type": "code",
   "execution_count": null,
   "id": "e7c1b880",
   "metadata": {},
   "outputs": [],
   "source": [
    "RFC_obj.score(x_train,y_train)"
   ]
  },
  {
   "cell_type": "code",
   "execution_count": null,
   "id": "151f0c0d",
   "metadata": {},
   "outputs": [],
   "source": [
    "RFC_obj.score(x_test,y_test)"
   ]
  },
  {
   "cell_type": "code",
   "execution_count": null,
   "id": "d97144cd",
   "metadata": {},
   "outputs": [],
   "source": [
    "pred =RFC_obj.predict(x_test)"
   ]
  },
  {
   "cell_type": "code",
   "execution_count": null,
   "id": "ea1e08a4",
   "metadata": {},
   "outputs": [],
   "source": [
    "pred "
   ]
  },
  {
   "cell_type": "code",
   "execution_count": null,
   "id": "bebef123",
   "metadata": {},
   "outputs": [],
   "source": [
    "y_test"
   ]
  },
  {
   "cell_type": "code",
   "execution_count": null,
   "id": "66d1f2ed",
   "metadata": {},
   "outputs": [],
   "source": [
    "# from sklearn.ensemble import VotingClassifier, StackingClassifier\n",
    "# Data set >>>>cleaning , preprocess , EDA \n",
    "# RandomForestClassifier, RandomForestRegressor\n",
    "# model Train \n",
    "# model save\n",
    "   \n",
    "# next flask \n"
   ]
  },
  {
   "cell_type": "code",
   "execution_count": null,
   "id": "35a6686d",
   "metadata": {},
   "outputs": [],
   "source": [
    "from sklearn.tree import DecisionTreeClassifier, DecisionTreeRegressor\n",
    "dt =DecisionTreeClassifier()"
   ]
  },
  {
   "cell_type": "code",
   "execution_count": null,
   "id": "887da7c9",
   "metadata": {},
   "outputs": [],
   "source": [
    "dt.fit(x_train,y_train)"
   ]
  },
  {
   "cell_type": "code",
   "execution_count": null,
   "id": "643052f8",
   "metadata": {},
   "outputs": [],
   "source": [
    "from sklearn.nave_bayes import GaussianNB, MultinomialNB, BernoulliNB"
   ]
  },
  {
   "cell_type": "code",
   "execution_count": null,
   "id": "010c6c31",
   "metadata": {},
   "outputs": [],
   "source": [
    "from sklearn.datasets import load_iris\n",
    "x , y =load_iris(return_X_y=True)\n",
    "from sklearn.model_selection import train_test_split\n",
    "x_train,x_test,y_train,y_test=train_test_split(x,y, test_size=0.2)\n",
    "from sklearn.naive_bayes import GaussianNB, BernoulliNB, MultinomialNB\n",
    "boj =BernoulliNB()\n",
    "boj.fit(x_train, y_train)\n",
    "print(boj.score(x_test, y_test))\n",
    "print(boj.score(x_train, y_train))"
   ]
  },
  {
   "cell_type": "code",
   "execution_count": null,
   "id": "e8c2e51b",
   "metadata": {},
   "outputs": [],
   "source": [
    "MultinomialNB().fit(x_train, y_train).score(x_train,y_train)"
   ]
  },
  {
   "cell_type": "code",
   "execution_count": null,
   "id": "9c1b56ad",
   "metadata": {},
   "outputs": [],
   "source": [
    "from sklearn.cluster import KMeans\n",
    "from sklearn.datasets import make_blobs\n",
    "x , y= make_blobs(n_samples=300, centers=4, random_state=0, cluster_std=0.60)\n",
    "from sklearn.model_selection import train_test_split\n",
    "x_train,x_test,y_train,y_test=train_test_split(x , y, test_size=0.2) \n",
    "km_obj=KMeans(n_clusters=4, random_state=0  )"
   ]
  },
  {
   "cell_type": "code",
   "execution_count": null,
   "id": "8152d63d",
   "metadata": {},
   "outputs": [],
   "source": [
    "km_obj.fit(x_train,y_train)"
   ]
  },
  {
   "cell_type": "code",
   "execution_count": null,
   "id": "686349e4",
   "metadata": {},
   "outputs": [],
   "source": []
  },
  {
   "cell_type": "code",
   "execution_count": null,
   "id": "279ff10d",
   "metadata": {},
   "outputs": [],
   "source": [
    "km_obj.score(x_train,y_train)"
   ]
  },
  {
   "cell_type": "code",
   "execution_count": null,
   "id": "5b4fa887",
   "metadata": {},
   "outputs": [],
   "source": [
    "km_obj.score(x_test,y_test)"
   ]
  },
  {
   "cell_type": "code",
   "execution_count": null,
   "id": "7f1d2461",
   "metadata": {},
   "outputs": [],
   "source": [
    "pred"
   ]
  },
  {
   "cell_type": "code",
   "execution_count": null,
   "id": "52a0648d",
   "metadata": {},
   "outputs": [],
   "source": [
    "y_test"
   ]
  },
  {
   "cell_type": "code",
   "execution_count": null,
   "id": "068fc4e6",
   "metadata": {},
   "outputs": [],
   "source": [
    "pred =km_obj.predict(x_test)\n"
   ]
  },
  {
   "cell_type": "code",
   "execution_count": null,
   "id": "6e8e28fb",
   "metadata": {},
   "outputs": [],
   "source": [
    "km_obj.cluster_centers_"
   ]
  },
  {
   "cell_type": "code",
   "execution_count": null,
   "id": "bc8c6ef3",
   "metadata": {},
   "outputs": [],
   "source": [
    "# KMeans.cluster_centers_"
   ]
  },
  {
   "cell_type": "code",
   "execution_count": null,
   "id": "e0e5ae7c",
   "metadata": {},
   "outputs": [],
   "source": [
    "import matplotlib.pyplot as plt\n",
    "plt.scatter(x_test[:,0], x_test[:,1], c=pred, cmap= 'viridis')\n",
    "center =km_obj.cluster_centers_ ## km_obj OBJ \n",
    "plt.scatter(center[:,0], center[:,1], s=200, c='red',alpha=0.75,marker= \"X\")\n",
    "plt.title(\"cluster\")\n",
    "plt.xlabel(\"x\")\n",
    "plt.ylabel(\"y\")\n",
    "plt.show()"
   ]
  },
  {
   "cell_type": "code",
   "execution_count": null,
   "id": "7795391c",
   "metadata": {},
   "outputs": [],
   "source": [
    "from sklearn.cluster import DBSCAN\n",
    "from sklearn.datasets import make_blobs\n",
    "from sklearn.model_selection import train_test_split\n",
    "x , y =make_blobs(n_samples=300, centers=4, random_state=0, cluster_std=0.60)\n",
    "x_train,x_test,y_train,y_test=train_test_split(x , y, test_size=0.2)\n",
    "bd_obj=DBSCAN(eps=0.3, min_samples=5)\n",
    "\n",
    "bd_obj.fit(x_train,y_train)\n",
    "\n"
   ]
  },
  {
   "cell_type": "code",
   "execution_count": null,
   "id": "217d3d80",
   "metadata": {},
   "outputs": [],
   "source": [
    "pred=bd_obj.fit_predict(x_test)"
   ]
  },
  {
   "cell_type": "code",
   "execution_count": null,
   "id": "dbadc10c",
   "metadata": {},
   "outputs": [],
   "source": [
    "y_test"
   ]
  },
  {
   "cell_type": "code",
   "execution_count": null,
   "id": "bcc4f87d",
   "metadata": {},
   "outputs": [],
   "source": [
    "import matplotlib.pyplot as plt\n",
    "plt.figure(figsize=(5,5 ))\n",
    "plt.scatter(x_test[:,0], x_test[:,1], c=pred, cmap= 'viridis')\n",
    "# center =km_obj.cluster_centers_ ## km_obj OBJ\n",
    "plt.grid()"
   ]
  },
  {
   "cell_type": "code",
   "execution_count": null,
   "id": "0e40ed54",
   "metadata": {},
   "outputs": [],
   "source": [
    "from sklearn.cluster import  AgglomerativeClustering\n",
    "from sklearn.datasets import make_blobs\n",
    "from sklearn.model_selection import train_test_split\n",
    "x , y =make_blobs(n_samples=300, centers=4, random_state=0, cluster_std=0.60)\n",
    "x_train,x_test,y_train,y_test=train_test_split(x , y, test_size=0.2)\n",
    "ag_obj=AgglomerativeClustering(n_clusters=4)\n",
    "ag_obj.fit(x_train,y_train)\n",
    "\n"
   ]
  },
  {
   "cell_type": "code",
   "execution_count": null,
   "id": "f713be26",
   "metadata": {},
   "outputs": [],
   "source": [
    "plt.scatter(x_test[:,0], x_test[:,1],   label = \"data point\", c ='blue')\n",
    "plt.title(\"cluster\")\n",
    "plt.xlabel(\"x\")\n",
    "plt.ylabel(\"y\")\n",
    "plt.legend()\n",
    "plt.show()"
   ]
  },
  {
   "cell_type": "code",
   "execution_count": null,
   "id": "42dd2bc5",
   "metadata": {},
   "outputs": [],
   "source": [
    "from scipy.cluster.hierarchy import dendrogram, linkage\n",
    "linked=linkage(x_train, method='ward', metric='euclidean')\n",
    "plt.figure(figsize=(10,10))\n",
    "dendrogram(linked)\n",
    "plt.title(\"Dendogram cluster\")\n",
    "plt.xlabel(\"sample\")\n",
    "plt.ylabel(\"distance\")\n",
    "plt.legend()\n",
    "plt.show()\n"
   ]
  },
  {
   "cell_type": "code",
   "execution_count": null,
   "id": "81451f0b",
   "metadata": {},
   "outputs": [],
   "source": []
  }
 ],
 "metadata": {
  "kernelspec": {
   "display_name": "Python 3",
   "language": "python",
   "name": "python3"
  },
  "language_info": {
   "codemirror_mode": {
    "name": "ipython",
    "version": 3
   },
   "file_extension": ".py",
   "mimetype": "text/x-python",
   "name": "python",
   "nbconvert_exporter": "python",
   "pygments_lexer": "ipython3",
   "version": "3.11.5"
  }
 },
 "nbformat": 4,
 "nbformat_minor": 5
}
