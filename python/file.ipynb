{
 "cells": [
  {
   "cell_type": "markdown",
   "id": "ee766896",
   "metadata": {},
   "source": [
    "### File Handling \n"
   ]
  },
  {
   "cell_type": "code",
   "execution_count": 14,
   "id": "b7924b12",
   "metadata": {},
   "outputs": [],
   "source": [
    "# r read  \n",
    "# w write \n",
    "# a  write \n",
    "# x create"
   ]
  },
  {
   "cell_type": "code",
   "execution_count": 15,
   "id": "fe1594ae",
   "metadata": {},
   "outputs": [],
   "source": [
    "# open(\"filename\", \"mode \")"
   ]
  },
  {
   "cell_type": "code",
   "execution_count": 16,
   "id": "c91bd8d6",
   "metadata": {},
   "outputs": [
    {
     "data": {
      "text/plain": [
       "'hello hii kese ho '"
      ]
     },
     "execution_count": 16,
     "metadata": {},
     "output_type": "execute_result"
    }
   ],
   "source": [
    "# open(\"file path \", \"mode \")\n",
    "file =open('demo.txt','r')  ### demo.txt is file and r is read mode\n",
    "file.read() ### read the file\n"
   ]
  },
  {
   "cell_type": "code",
   "execution_count": 19,
   "id": "3cd0ab35",
   "metadata": {},
   "outputs": [],
   "source": [
    "file.close()"
   ]
  },
  {
   "cell_type": "code",
   "execution_count": 20,
   "id": "78f40f0a",
   "metadata": {},
   "outputs": [],
   "source": [
    "file =open('demo.txt','r')\n",
    "file.read()\n",
    "file.close() "
   ]
  },
  {
   "cell_type": "code",
   "execution_count": 21,
   "id": "a4f0faf9",
   "metadata": {},
   "outputs": [],
   "source": [
    "file.close()"
   ]
  },
  {
   "cell_type": "code",
   "execution_count": null,
   "id": "3efdc395",
   "metadata": {},
   "outputs": [],
   "source": []
  }
 ],
 "metadata": {
  "kernelspec": {
   "display_name": "Python 3",
   "language": "python",
   "name": "python3"
  },
  "language_info": {
   "codemirror_mode": {
    "name": "ipython",
    "version": 3
   },
   "file_extension": ".py",
   "mimetype": "text/x-python",
   "name": "python",
   "nbconvert_exporter": "python",
   "pygments_lexer": "ipython3",
   "version": "3.11.5"
  }
 },
 "nbformat": 4,
 "nbformat_minor": 5
}
